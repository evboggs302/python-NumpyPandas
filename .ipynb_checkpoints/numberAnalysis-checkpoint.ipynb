{
 "cells": [
  {
   "cell_type": "code",
   "execution_count": 1,
   "metadata": {},
   "outputs": [],
   "source": [
    "#  test 1\n",
    "# print('Hello World!')\n",
    "#  test 2\n",
    "# def say_hello(recipient):\n",
    "#     return 'Hello, {}!'.format(recipient)\n",
    "# say_hello('Tim')"
   ]
  },
  {
   "cell_type": "code",
   "execution_count": 2,
   "metadata": {},
   "outputs": [],
   "source": [
    "#  installing dependencies\n",
    "import numpy as np\n",
    "import pandas as pd"
   ]
  },
  {
   "cell_type": "code",
   "execution_count": 3,
   "metadata": {
    "tags": [
     "outputPrepend"
    ]
   },
   "outputs": [],
   "source": [
    "#  importing the data from a file in the same direcotry, then accessing the relevent part of the document\n",
    "typh = pd.read_json('../TyphoonHaiyan.json')\n",
    "info = typh.result_content['data']\n",
    "# print(info[0])"
   ]
  },
  {
   "cell_type": "code",
   "execution_count": 4,
   "metadata": {
    "tags": [
     "outputPrepend"
    ]
   },
   "outputs": [],
   "source": [
    "#  Becasue NumPy and Pandas are much quicker with Arrays/Lists, this function flattens a single object/dictionary at a time into one root dictionary, leaving the arrays to be manipulated later if needed.\n",
    "def dict_flattener(dd, seperator='/', prefix=''):\n",
    "    return {prefix + seperator + k if prefix else k : v\n",
    "    for kk,vv in dd.items()\n",
    "    for k,v, in dict_flattener(vv, seperator, kk).items()\n",
    "    } if isinstance(dd, dict) else {prefix : dd}\n",
    "\n",
    "#  flatten the data and store function result as a new entry in the 'data' variable\n",
    "data = []\n",
    "for x in info:\n",
    "    data.append(dict_flattener(x['data']))"
   ]
  },
  {
   "cell_type": "code",
   "execution_count": 5,
   "metadata": {},
   "outputs": [
    {
     "output_type": "execute_result",
     "data": {
      "text/plain": "                                                 url        indexed  \\\n0  https://www.nbcnews.com/news/world/christmas-t...  1577417777009   \n1  https://www.euronews.com/2019/12/27/christmas-...  1577417446067   \n2  https://edition.cnn.com/2019/12/23/asia/asia-p...  1577155935081   \n3  https://edition.cnn.com/2019/12/26/asia/philip...  1577345702655   \n4  https://news.abs-cbn.com/news/12/26/19/christm...  1577333852530   \n\n   search_indexed      published  \\\n0   1577417808485  1577415990000   \n1   1577417452870  1577415990000   \n2   1577155961219  1577154684000   \n3   1577345729427  1577344041000   \n4   1577333863173  1577330133000   \n\n                                               title  \\\n0  Christmas typhoon leaves 28 dead, 12 missing i...   \n1  Christmas typhoon leaves 28 dead, 12 missing i...   \n2  In Asia Pacific the climate crisis is happenin...   \n3  Typhoon Phanfone: Ursula hits the Philippines,...   \n4  Christmas storm Ursula kills at least 16 - ABS...   \n\n                                             content  \\\n0  MANILA, Philippines ΓÇö A strong typhoon that ...   \n1  MANILA, Philippines ΓÇö A strong typhoon that ...   \n2  The world's most disaster-prone region felt th...   \n3  A typhoon that lashed the central Philippines ...   \n4  MANILA - A typhoon that swept across remote vi...   \n\n                                       title_snippet  \\\n0  Christmas <b>typhoon</b> leaves 28 dead, 12 mi...   \n1  Christmas <b>typhoon</b> leaves 28 dead, 12 mi...   \n2  In Asia Pacific the climate crisis is happenin...   \n3  <b>Typhoon</b> Phanfone: Ursula hits the Phili...   \n4  Christmas storm Ursula kills at least 16 - ABS...   \n\n                                     content_snippet  \\\n0  ...Philippines ΓÇö A strong <b>typhoon</b> tha...   \n1  ...traveled along a path similar to that of <b...   \n2  ...stronger winds.\\n\\nJoanna Sustento has been...   \n3  ...homes and tourist areas.\\n\\n<b>Typhoon</b> ...   \n4  ...tracked a similar path as Super <b>Typhoon<...   \n\n                    root_url            domain_url  ...  \\\n0   https://www.nbcnews.com/   http://nbcnews.com/  ...   \n1  https://www.euronews.com/  http://euronews.com/  ...   \n2   https://edition.cnn.com/       http://cnn.com/  ...   \n3   https://edition.cnn.com/       http://cnn.com/  ...   \n4  https://news.abs-cbn.com/   http://abs-cbn.com/  ...   \n\n  extra_source_attributes/name engagement     reach  word_count  \\\n0                  nbcnews.com      79485  28843536         439   \n1                 euronews.com      72384  10095239         439   \n2                      cnn.com      26673  41653588        1836   \n3                      cnn.com      17642  41653588         500   \n4                  abs-cbn.com      15794   6392708         387   \n\n   trending_score                                         entity_url  \\\n0             0.0                                                NaN   \n1             0.0  [{'url': 'https://static.euronews.com/articles...   \n2             0.0  [{'url': 'cdn.cnn.com/cnnnext/dam/assets/19110...   \n3             0.0  [{'url': 'https://pia.gov.ph/news/articles/103...   \n4             0.0  [{'url': 'https://sa.kapamilya.com/absnews/abs...   \n\n   tokens_mention tokens_hashtag videos extra_source_attributes/url  \n0             NaN            NaN    NaN                         NaN  \n1             NaN            NaN    NaN                         NaN  \n2             NaN            NaN    NaN                         NaN  \n3             NaN            NaN    NaN                         NaN  \n4             NaN            NaN    NaN                         NaN  \n\n[5 rows x 52 columns]",
      "text/html": "<div>\n<style scoped>\n    .dataframe tbody tr th:only-of-type {\n        vertical-align: middle;\n    }\n\n    .dataframe tbody tr th {\n        vertical-align: top;\n    }\n\n    .dataframe thead th {\n        text-align: right;\n    }\n</style>\n<table border=\"1\" class=\"dataframe\">\n  <thead>\n    <tr style=\"text-align: right;\">\n      <th></th>\n      <th>url</th>\n      <th>indexed</th>\n      <th>search_indexed</th>\n      <th>published</th>\n      <th>title</th>\n      <th>content</th>\n      <th>title_snippet</th>\n      <th>content_snippet</th>\n      <th>root_url</th>\n      <th>domain_url</th>\n      <th>...</th>\n      <th>extra_source_attributes/name</th>\n      <th>engagement</th>\n      <th>reach</th>\n      <th>word_count</th>\n      <th>trending_score</th>\n      <th>entity_url</th>\n      <th>tokens_mention</th>\n      <th>tokens_hashtag</th>\n      <th>videos</th>\n      <th>extra_source_attributes/url</th>\n    </tr>\n  </thead>\n  <tbody>\n    <tr>\n      <th>0</th>\n      <td>https://www.nbcnews.com/news/world/christmas-t...</td>\n      <td>1577417777009</td>\n      <td>1577417808485</td>\n      <td>1577415990000</td>\n      <td>Christmas typhoon leaves 28 dead, 12 missing i...</td>\n      <td>MANILA, Philippines ΓÇö A strong typhoon that ...</td>\n      <td>Christmas &lt;b&gt;typhoon&lt;/b&gt; leaves 28 dead, 12 mi...</td>\n      <td>...Philippines ΓÇö A strong &lt;b&gt;typhoon&lt;/b&gt; tha...</td>\n      <td>https://www.nbcnews.com/</td>\n      <td>http://nbcnews.com/</td>\n      <td>...</td>\n      <td>nbcnews.com</td>\n      <td>79485</td>\n      <td>28843536</td>\n      <td>439</td>\n      <td>0.0</td>\n      <td>NaN</td>\n      <td>NaN</td>\n      <td>NaN</td>\n      <td>NaN</td>\n      <td>NaN</td>\n    </tr>\n    <tr>\n      <th>1</th>\n      <td>https://www.euronews.com/2019/12/27/christmas-...</td>\n      <td>1577417446067</td>\n      <td>1577417452870</td>\n      <td>1577415990000</td>\n      <td>Christmas typhoon leaves 28 dead, 12 missing i...</td>\n      <td>MANILA, Philippines ΓÇö A strong typhoon that ...</td>\n      <td>Christmas &lt;b&gt;typhoon&lt;/b&gt; leaves 28 dead, 12 mi...</td>\n      <td>...traveled along a path similar to that of &lt;b...</td>\n      <td>https://www.euronews.com/</td>\n      <td>http://euronews.com/</td>\n      <td>...</td>\n      <td>euronews.com</td>\n      <td>72384</td>\n      <td>10095239</td>\n      <td>439</td>\n      <td>0.0</td>\n      <td>[{'url': 'https://static.euronews.com/articles...</td>\n      <td>NaN</td>\n      <td>NaN</td>\n      <td>NaN</td>\n      <td>NaN</td>\n    </tr>\n    <tr>\n      <th>2</th>\n      <td>https://edition.cnn.com/2019/12/23/asia/asia-p...</td>\n      <td>1577155935081</td>\n      <td>1577155961219</td>\n      <td>1577154684000</td>\n      <td>In Asia Pacific the climate crisis is happenin...</td>\n      <td>The world's most disaster-prone region felt th...</td>\n      <td>In Asia Pacific the climate crisis is happenin...</td>\n      <td>...stronger winds.\\n\\nJoanna Sustento has been...</td>\n      <td>https://edition.cnn.com/</td>\n      <td>http://cnn.com/</td>\n      <td>...</td>\n      <td>cnn.com</td>\n      <td>26673</td>\n      <td>41653588</td>\n      <td>1836</td>\n      <td>0.0</td>\n      <td>[{'url': 'cdn.cnn.com/cnnnext/dam/assets/19110...</td>\n      <td>NaN</td>\n      <td>NaN</td>\n      <td>NaN</td>\n      <td>NaN</td>\n    </tr>\n    <tr>\n      <th>3</th>\n      <td>https://edition.cnn.com/2019/12/26/asia/philip...</td>\n      <td>1577345702655</td>\n      <td>1577345729427</td>\n      <td>1577344041000</td>\n      <td>Typhoon Phanfone: Ursula hits the Philippines,...</td>\n      <td>A typhoon that lashed the central Philippines ...</td>\n      <td>&lt;b&gt;Typhoon&lt;/b&gt; Phanfone: Ursula hits the Phili...</td>\n      <td>...homes and tourist areas.\\n\\n&lt;b&gt;Typhoon&lt;/b&gt; ...</td>\n      <td>https://edition.cnn.com/</td>\n      <td>http://cnn.com/</td>\n      <td>...</td>\n      <td>cnn.com</td>\n      <td>17642</td>\n      <td>41653588</td>\n      <td>500</td>\n      <td>0.0</td>\n      <td>[{'url': 'https://pia.gov.ph/news/articles/103...</td>\n      <td>NaN</td>\n      <td>NaN</td>\n      <td>NaN</td>\n      <td>NaN</td>\n    </tr>\n    <tr>\n      <th>4</th>\n      <td>https://news.abs-cbn.com/news/12/26/19/christm...</td>\n      <td>1577333852530</td>\n      <td>1577333863173</td>\n      <td>1577330133000</td>\n      <td>Christmas storm Ursula kills at least 16 - ABS...</td>\n      <td>MANILA - A typhoon that swept across remote vi...</td>\n      <td>Christmas storm Ursula kills at least 16 - ABS...</td>\n      <td>...tracked a similar path as Super &lt;b&gt;Typhoon&lt;...</td>\n      <td>https://news.abs-cbn.com/</td>\n      <td>http://abs-cbn.com/</td>\n      <td>...</td>\n      <td>abs-cbn.com</td>\n      <td>15794</td>\n      <td>6392708</td>\n      <td>387</td>\n      <td>0.0</td>\n      <td>[{'url': 'https://sa.kapamilya.com/absnews/abs...</td>\n      <td>NaN</td>\n      <td>NaN</td>\n      <td>NaN</td>\n      <td>NaN</td>\n    </tr>\n  </tbody>\n</table>\n<p>5 rows × 52 columns</p>\n</div>"
     },
     "metadata": {},
     "execution_count": 5
    }
   ],
   "source": [
    "#  we are now able to create a DataFrame from the list of dictionaries, sampling the first 5\n",
    "df = pd.DataFrame(data)\n",
    "df.head()"
   ]
  },
  {
   "cell_type": "code",
   "execution_count": 6,
   "metadata": {},
   "outputs": [
    {
     "output_type": "execute_result",
     "data": {
      "text/plain": "         indexed  search_indexed      published  porn_level  fluency_level  \\\n0  1577417777009   1577417808485  1577415990000          20            100   \n1  1577417446067   1577417452870  1577415990000          20            100   \n2  1577155935081   1577155961219  1577154684000           0             90   \n3  1577345702655   1577345729427  1577344041000           0            100   \n4  1577333852530   1577333863173  1577330133000           0            100   \n\n   spam_level  sentiment  source_extended_attributes/alexa_pageviews  \\\n0           0          0                                    42400000   \n1           0          0                                    21200000   \n2           0          0                                    98719000   \n3           0          0                                    98719000   \n4           0          0                                    12274000   \n\n   source_extended_attributes/alexa_unique_visitors  engagement     reach  \\\n0                                          28843536       79485  28843536   \n1                                          10095239       72384  10095239   \n2                                          41653588       26673  41653588   \n3                                          41653588       17642  41653588   \n4                                           6392708       15794   6392708   \n\n   word_count  \n0         439  \n1         439  \n2        1836  \n3         500  \n4         387  ",
      "text/html": "<div>\n<style scoped>\n    .dataframe tbody tr th:only-of-type {\n        vertical-align: middle;\n    }\n\n    .dataframe tbody tr th {\n        vertical-align: top;\n    }\n\n    .dataframe thead th {\n        text-align: right;\n    }\n</style>\n<table border=\"1\" class=\"dataframe\">\n  <thead>\n    <tr style=\"text-align: right;\">\n      <th></th>\n      <th>indexed</th>\n      <th>search_indexed</th>\n      <th>published</th>\n      <th>porn_level</th>\n      <th>fluency_level</th>\n      <th>spam_level</th>\n      <th>sentiment</th>\n      <th>source_extended_attributes/alexa_pageviews</th>\n      <th>source_extended_attributes/alexa_unique_visitors</th>\n      <th>engagement</th>\n      <th>reach</th>\n      <th>word_count</th>\n    </tr>\n  </thead>\n  <tbody>\n    <tr>\n      <th>0</th>\n      <td>1577417777009</td>\n      <td>1577417808485</td>\n      <td>1577415990000</td>\n      <td>20</td>\n      <td>100</td>\n      <td>0</td>\n      <td>0</td>\n      <td>42400000</td>\n      <td>28843536</td>\n      <td>79485</td>\n      <td>28843536</td>\n      <td>439</td>\n    </tr>\n    <tr>\n      <th>1</th>\n      <td>1577417446067</td>\n      <td>1577417452870</td>\n      <td>1577415990000</td>\n      <td>20</td>\n      <td>100</td>\n      <td>0</td>\n      <td>0</td>\n      <td>21200000</td>\n      <td>10095239</td>\n      <td>72384</td>\n      <td>10095239</td>\n      <td>439</td>\n    </tr>\n    <tr>\n      <th>2</th>\n      <td>1577155935081</td>\n      <td>1577155961219</td>\n      <td>1577154684000</td>\n      <td>0</td>\n      <td>90</td>\n      <td>0</td>\n      <td>0</td>\n      <td>98719000</td>\n      <td>41653588</td>\n      <td>26673</td>\n      <td>41653588</td>\n      <td>1836</td>\n    </tr>\n    <tr>\n      <th>3</th>\n      <td>1577345702655</td>\n      <td>1577345729427</td>\n      <td>1577344041000</td>\n      <td>0</td>\n      <td>100</td>\n      <td>0</td>\n      <td>0</td>\n      <td>98719000</td>\n      <td>41653588</td>\n      <td>17642</td>\n      <td>41653588</td>\n      <td>500</td>\n    </tr>\n    <tr>\n      <th>4</th>\n      <td>1577333852530</td>\n      <td>1577333863173</td>\n      <td>1577330133000</td>\n      <td>0</td>\n      <td>100</td>\n      <td>0</td>\n      <td>0</td>\n      <td>12274000</td>\n      <td>6392708</td>\n      <td>15794</td>\n      <td>6392708</td>\n      <td>387</td>\n    </tr>\n  </tbody>\n</table>\n</div>"
     },
     "metadata": {},
     "execution_count": 6
    }
   ],
   "source": [
    "#  Now lets say I want to know more about the items that have NUMERICAL values. \n",
    "num_vals = df.select_dtypes(include=['int'])\n",
    "num_vals.head()"
   ]
  },
  {
   "cell_type": "code",
   "execution_count": 7,
   "metadata": {},
   "outputs": [
    {
     "output_type": "execute_result",
     "data": {
      "text/plain": "           indexed  searchIndexed      published  pornLevel  fluencyLevel  \\\n495  1577352048439  1577352067810  1577351633000          0           100   \n496  1577351825053  1577351841028  1577350523000          0           100   \n497  1577351201300  1577351231809  1577350115000          0           100   \n498  1577386747320  1577386762956  1577349386731          0           100   \n499  1577349029245  1577349046165  1577347608000          0           100   \n\n     spamLevel  sentiment  pageViews  uniqueVisitors  engagement   reach  \\\n495         21          0      10000            5000           1    5000   \n496         10          0      60000           40000           1   40000   \n497         13         -5     170000          154545           1  154545   \n498          0          0     110000           84615           1   84615   \n499          5          0      40000           40000           1   40000   \n\n     wordCount  \n495        552  \n496        429  \n497        438  \n498        557  \n499        342  ",
      "text/html": "<div>\n<style scoped>\n    .dataframe tbody tr th:only-of-type {\n        vertical-align: middle;\n    }\n\n    .dataframe tbody tr th {\n        vertical-align: top;\n    }\n\n    .dataframe thead th {\n        text-align: right;\n    }\n</style>\n<table border=\"1\" class=\"dataframe\">\n  <thead>\n    <tr style=\"text-align: right;\">\n      <th></th>\n      <th>indexed</th>\n      <th>searchIndexed</th>\n      <th>published</th>\n      <th>pornLevel</th>\n      <th>fluencyLevel</th>\n      <th>spamLevel</th>\n      <th>sentiment</th>\n      <th>pageViews</th>\n      <th>uniqueVisitors</th>\n      <th>engagement</th>\n      <th>reach</th>\n      <th>wordCount</th>\n    </tr>\n  </thead>\n  <tbody>\n    <tr>\n      <th>495</th>\n      <td>1577352048439</td>\n      <td>1577352067810</td>\n      <td>1577351633000</td>\n      <td>0</td>\n      <td>100</td>\n      <td>21</td>\n      <td>0</td>\n      <td>10000</td>\n      <td>5000</td>\n      <td>1</td>\n      <td>5000</td>\n      <td>552</td>\n    </tr>\n    <tr>\n      <th>496</th>\n      <td>1577351825053</td>\n      <td>1577351841028</td>\n      <td>1577350523000</td>\n      <td>0</td>\n      <td>100</td>\n      <td>10</td>\n      <td>0</td>\n      <td>60000</td>\n      <td>40000</td>\n      <td>1</td>\n      <td>40000</td>\n      <td>429</td>\n    </tr>\n    <tr>\n      <th>497</th>\n      <td>1577351201300</td>\n      <td>1577351231809</td>\n      <td>1577350115000</td>\n      <td>0</td>\n      <td>100</td>\n      <td>13</td>\n      <td>-5</td>\n      <td>170000</td>\n      <td>154545</td>\n      <td>1</td>\n      <td>154545</td>\n      <td>438</td>\n    </tr>\n    <tr>\n      <th>498</th>\n      <td>1577386747320</td>\n      <td>1577386762956</td>\n      <td>1577349386731</td>\n      <td>0</td>\n      <td>100</td>\n      <td>0</td>\n      <td>0</td>\n      <td>110000</td>\n      <td>84615</td>\n      <td>1</td>\n      <td>84615</td>\n      <td>557</td>\n    </tr>\n    <tr>\n      <th>499</th>\n      <td>1577349029245</td>\n      <td>1577349046165</td>\n      <td>1577347608000</td>\n      <td>0</td>\n      <td>100</td>\n      <td>5</td>\n      <td>0</td>\n      <td>40000</td>\n      <td>40000</td>\n      <td>1</td>\n      <td>40000</td>\n      <td>342</td>\n    </tr>\n  </tbody>\n</table>\n</div>"
     },
     "metadata": {},
     "execution_count": 7
    }
   ],
   "source": [
    "#  lets rename the columns to make it a little more readable\n",
    "new_cols = {\n",
    "    \"search_indexed\":\"searchIndexed\",\n",
    "    \"porn_level\":\"pornLevel\",\n",
    "    \"fluency_level\":\"fluencyLevel\",\n",
    "    \"spam_level\":\"spamLevel\",\n",
    "    \"source_extended_attributes/alexa_pageviews\":\"pageViews\",\n",
    "    \"source_extended_attributes/alexa_unique_visitors\":\"uniqueVisitors\",\n",
    "    \"word_count\":\"wordCount\"\n",
    "}\n",
    "numVals = num_vals.rename(columns=new_cols)\n",
    "numVals.tail()"
   ]
  },
  {
   "cell_type": "code",
   "execution_count": 8,
   "metadata": {},
   "outputs": [
    {
     "output_type": "stream",
     "name": "stdout",
     "text": "DATAFRAME AVERAGES\n\nPorn Level = 4.7\nFluency Level = 97.618\nSpam Level = 2.946\nSentiment (scale: -5, 0, or +5) = -0.4\nPage Views = 24846954.0\nUnique Visitors = 7003802.496\nEngagement = 715.052\nReach = 7003802.496\nWord Count = 552.558\n"
    }
   ],
   "source": [
    "#  now lets get the averages for the pertinent/relevent columns, and print the information that we've discovered\n",
    "avg_pornLvl = numVals['pornLevel'].mean()\n",
    "avg_fluencyLvl = numVals['fluencyLevel'].mean()\n",
    "avg_spamLvl = numVals['spamLevel'].mean()\n",
    "avg_sentiment = numVals['sentiment'].mean()\n",
    "avg_views = numVals['pageViews'].mean()\n",
    "avg_qVisits = numVals['uniqueVisitors'].mean()\n",
    "avg_engagement = numVals['engagement'].mean()\n",
    "avg_reach = numVals['reach'].mean()\n",
    "avg_wrdCnt = numVals['wordCount'].mean()\n",
    "#  \n",
    "print('DATAFRAME AVERAGES')\n",
    "print()\n",
    "print('Porn Level = %s' % (avg_pornLvl))\n",
    "print('Fluency Level = %s' % (avg_fluencyLvl))\n",
    "print('Spam Level = %s' % (avg_spamLvl))\n",
    "print('Sentiment (scale: -5, 0, or +5) = %s' % (avg_sentiment))\n",
    "print('Page Views = %s' % (avg_views))\n",
    "print('Unique Visitors = %s' % (avg_qVisits))\n",
    "print('Engagement = %s' % (avg_engagement))\n",
    "print('Reach = %s' % (avg_reach))\n",
    "print('Word Count = %s' % (avg_wrdCnt))"
   ]
  },
  {
   "cell_type": "code",
   "execution_count": 10,
   "metadata": {},
   "outputs": [
    {
     "output_type": "stream",
     "name": "stdout",
     "text": "fluencyLevel   spamLevel  sentiment     pageViews  uniqueVisitors  \\\ncount    500.000000  500.000000  500.00000  5.000000e+02    5.000000e+02   \nmean      97.618000    2.946000   -0.40000  2.484695e+07    7.003802e+06   \nstd        9.718899    7.791566    1.71636  2.435569e+08    4.296740e+07   \nmin        0.000000    0.000000   -5.00000  0.000000e+00    0.000000e+00   \n25%      100.000000    0.000000    0.00000  1.300000e+05    8.000000e+04   \n50%      100.000000    0.000000    0.00000  8.250000e+05    4.928915e+05   \n75%      100.000000    1.000000    0.00000  5.555000e+06    2.475217e+06   \nmax      100.000000  100.000000    5.00000  5.292000e+09    8.576986e+08   \n\n         engagement         reach    wordCount  \ncount    500.000000  5.000000e+02   500.000000  \nmean     715.052000  7.003802e+06   552.558000  \nstd     5162.731872  4.296740e+07   490.018815  \nmin        1.000000  0.000000e+00    30.000000  \n25%        1.000000  8.000000e+04   380.750000  \n50%        2.000000  4.928915e+05   446.000000  \n75%       21.000000  2.475217e+06   608.500000  \nmax    79485.000000  8.576986e+08  7225.000000  \n"
    }
   ],
   "source": [
    "#  lets say I want to learn more about the other statistical data\n",
    "stats = numVals[['fluencyLevel', 'spamLevel','sentiment','pageViews','uniqueVisitors','engagement','reach','wordCount']]\n",
    "print(stats.describe())"
   ]
  },
  {
   "cell_type": "code",
   "execution_count": null,
   "metadata": {},
   "outputs": [],
   "source": []
  }
 ],
 "metadata": {
  "kernelspec": {
   "display_name": "Python 3.7.4 64-bit",
   "language": "python",
   "name": "python37464bitb7e105f00eee4539af44d87466154e0d"
  },
  "language_info": {
   "codemirror_mode": {
    "name": "ipython",
    "version": 3
   },
   "file_extension": ".py",
   "mimetype": "text/x-python",
   "name": "python",
   "nbconvert_exporter": "python",
   "pygments_lexer": "ipython3",
   "version": "3.7.4-final"
  }
 },
 "nbformat": 4,
 "nbformat_minor": 4
}