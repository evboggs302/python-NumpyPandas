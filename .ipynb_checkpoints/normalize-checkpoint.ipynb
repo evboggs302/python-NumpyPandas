{
 "cells": [
  {
   "cell_type": "code",
   "execution_count": 1,
   "metadata": {},
   "outputs": [
    {
     "output_type": "stream",
     "name": "stdout",
     "text": "Hello World!\n"
    }
   ],
   "source": [
    "print('Hello World!')"
   ]
  },
  {
   "cell_type": "code",
   "execution_count": 2,
   "metadata": {
    "scrolled": true
   },
   "outputs": [
    {
     "output_type": "execute_result",
     "data": {
      "text/plain": "'Hello, Tim!'"
     },
     "metadata": {},
     "execution_count": 2
    }
   ],
   "source": [
    "def say_hello(recipient):\n",
    "    return 'Hello, {}!'.format(recipient)\n",
    "say_hello('Tim')"
   ]
  },
  {
   "cell_type": "code",
   "execution_count": null,
   "metadata": {},
   "outputs": [],
   "source": []
  },
  {
   "cell_type": "code",
   "execution_count": 1,
   "metadata": {},
   "outputs": [],
   "source": [
    "import numpy as np\n",
    "import pandas as pd"
   ]
  },
  {
   "cell_type": "code",
   "execution_count": 9,
   "metadata": {
    "tags": [
     "outputPrepend"
    ]
   },
   "outputs": [
    {
     "output_type": "stream",
     "name": "stdout",
     "text": "{'data': {'url': 'https://www.nbcnews.com/news/world/christmas-typhoon-leaves-28-dead-12-missing-philippines-n1107541', 'indexed': 1577417777009, 'search_indexed': 1577417808485, 'published': 1577415990000, 'title': 'Christmas typhoon leaves 28 dead, 12 missing in Philippines', 'content': 'MANILA, Philippines ΓÇö A strong typhoon that barreled through the central Philippines left at least 20 people dead and forced thousands to flee their homes, devastating Christmas celebrations in the predominantly Catholic...', 'title_snippet': 'Christmas <b>typhoon</b> leaves 28 dead, 12 missing in Philippines', 'content_snippet': '...Philippines ΓÇö A strong <b>typhoon</b> that barreled through the central Philippines left at least 20 people dead and forced thousands to flee their homes, devastating Christmas celebrations in the predominantly Catholic country.\\n\\n<b>Typhoon</b> Phanfone stranded...', 'root_url': 'https://www.nbcnews.com/', 'domain_url': 'http://nbcnews.com/', 'host_url': 'http://www.nbcnews.com/', 'parent_url': 'https://www.nbcnews.com/news/world/christmas-typhoon-leaves-28-dead-12-missing-philippines-n1107541', 'lang': 'en', 'porn_level': 20, 'fluency_level': 100, 'spam_level': 0, 'sentiment': 0, 'source_type': ['ONLINENEWS', 'ONLINENEWS_TVRADIO'], 'post_type': ['TEXT'], 'tokens_title': ['Christmas typhoon leaves', 'typhoon leaves', 'Christmas typhoon', 'Christmas', 'Christmas', 'Philippines', 'Philippines', 'leaves', 'missing', 'typhoon', 'dead'], 'tokens_content': ['South China Sea', 'Christmas Eve', 'Christmas Eve', 'Christmas Day', 'Christmas Day', 'Civil Defense', 'Typhoon Haiyan', 'Eastern Samar', 'South China', 'China Sea', 'Cindy Ferrer', 'Christmas', 'Christmas', 'Christmas', 'Philippines', 'Philippines', 'Philippines', 'Iloilo', 'Iloilo', 'Office', 'Catholic', 'Southeast', 'Defense', 'Laotian', 'Samar', 'Phanfone', 'Typhoon', 'Civil', 'Haiyan', 'Ferrer', 'Pacific', 'Ring', 'Batad', 'MANILA', 'Eastern', 'Cindy'], 'images': [{'url': 'https://media3.s-nbcnews.com/j/newscms/2019_52/3162106/191226-philippines-typhoon-workers-axc-956p_cb0327c3cc66ebfcab2f6fbc98c02e67.fit-760w.jpg', 'width': 760, 'height': 503}], 'cluster_id': 'https://www.chron.com/news/world/article/Christmas-typhoon-leaves-16-dead-in-Philippines-14931966.php', 'tags_internal': ['containsImage', 'hasImage'], 'article_extended_attributes': {'facebook_shares': 8893, 'facebook_likes': 66398, 'twitter_shares': 149, 'num_comments': 4045}, 'source_extended_attributes': {'alexa_pageviews': 42400000, 'alexa_unique_visitors': 28843536}, 'extra_author_attributes': {'id': 'ex:www.nbcnews.com-1683894441', 'name': 'associated press', 'gender': 'UNKNOWN'}, 'extra_source_attributes': {'world_data': {'continent': 'North America', 'country': 'United States', 'region': 'Washington, D.C.', 'city': 'Washington, D.C.', 'longitude': -77.0086669921875, 'latitude': 38.89984130859375, 'country_code': 'us', 'resolution': 'COUNTRY'}, 'id': 'ex:www.nbcnews.com', 'name': 'nbcnews.com'}, 'engagement': 79485, 'reach': 28843536, 'word_count': 439, 'trending_score': 0}}\n"
    }
   ],
   "source": [
    "typh = pd.read_json('../TyphoonHaiyan.json')\n",
    "info = typh.result_content['data']\n",
    "print(info[0])"
   ]
  },
  {
   "cell_type": "code",
   "execution_count": 18,
   "metadata": {
    "tags": [
     "outputPrepend"
    ]
   },
   "outputs": [],
   "source": [
    "def dict_flattener(dd, seperator='/', prefix=''):\n",
    "    return {prefix + seperator + k if prefix else k : v\n",
    "    for kk,vv in dd.items()\n",
    "    for k,v, in dict_flattener(vv, seperator, kk).items()\n",
    "    } if isinstance(dd, dict) else {prefix : dd}\n",
    "data = []\n",
    "for x in info:\n",
    "    data.append(dict_flattener(x['data']))"
   ]
  },
  {
   "cell_type": "code",
   "execution_count": 19,
   "metadata": {},
   "outputs": [
    {
     "output_type": "execute_result",
     "data": {
      "text/plain": "                                                 url        indexed  \\\n0  https://www.nbcnews.com/news/world/christmas-t...  1577417777009   \n1  https://www.euronews.com/2019/12/27/christmas-...  1577417446067   \n2  https://edition.cnn.com/2019/12/23/asia/asia-p...  1577155935081   \n3  https://edition.cnn.com/2019/12/26/asia/philip...  1577345702655   \n4  https://news.abs-cbn.com/news/12/26/19/christm...  1577333852530   \n\n   search_indexed      published  \\\n0   1577417808485  1577415990000   \n1   1577417452870  1577415990000   \n2   1577155961219  1577154684000   \n3   1577345729427  1577344041000   \n4   1577333863173  1577330133000   \n\n                                               title  \\\n0  Christmas typhoon leaves 28 dead, 12 missing i...   \n1  Christmas typhoon leaves 28 dead, 12 missing i...   \n2  In Asia Pacific the climate crisis is happenin...   \n3  Typhoon Phanfone: Ursula hits the Philippines,...   \n4  Christmas storm Ursula kills at least 16 - ABS...   \n\n                                             content  \\\n0  MANILA, Philippines ΓÇö A strong typhoon that ...   \n1  MANILA, Philippines ΓÇö A strong typhoon that ...   \n2  The world's most disaster-prone region felt th...   \n3  A typhoon that lashed the central Philippines ...   \n4  MANILA - A typhoon that swept across remote vi...   \n\n                                       title_snippet  \\\n0  Christmas <b>typhoon</b> leaves 28 dead, 12 mi...   \n1  Christmas <b>typhoon</b> leaves 28 dead, 12 mi...   \n2  In Asia Pacific the climate crisis is happenin...   \n3  <b>Typhoon</b> Phanfone: Ursula hits the Phili...   \n4  Christmas storm Ursula kills at least 16 - ABS...   \n\n                                     content_snippet  \\\n0  ...Philippines ΓÇö A strong <b>typhoon</b> tha...   \n1  ...traveled along a path similar to that of <b...   \n2  ...stronger winds.\\n\\nJoanna Sustento has been...   \n3  ...homes and tourist areas.\\n\\n<b>Typhoon</b> ...   \n4  ...tracked a similar path as Super <b>Typhoon<...   \n\n                    root_url            domain_url  ...  \\\n0   https://www.nbcnews.com/   http://nbcnews.com/  ...   \n1  https://www.euronews.com/  http://euronews.com/  ...   \n2   https://edition.cnn.com/       http://cnn.com/  ...   \n3   https://edition.cnn.com/       http://cnn.com/  ...   \n4  https://news.abs-cbn.com/   http://abs-cbn.com/  ...   \n\n  extra_source_attributes/name engagement     reach  word_count  \\\n0                  nbcnews.com      79485  28843536         439   \n1                 euronews.com      72384  10095239         439   \n2                      cnn.com      26673  41653588        1836   \n3                      cnn.com      17642  41653588         500   \n4                  abs-cbn.com      15794   6392708         387   \n\n   trending_score                                         entity_url  \\\n0             0.0                                                NaN   \n1             0.0  [{'url': 'https://static.euronews.com/articles...   \n2             0.0  [{'url': 'cdn.cnn.com/cnnnext/dam/assets/19110...   \n3             0.0  [{'url': 'https://pia.gov.ph/news/articles/103...   \n4             0.0  [{'url': 'https://sa.kapamilya.com/absnews/abs...   \n\n   tokens_mention tokens_hashtag videos extra_source_attributes/url  \n0             NaN            NaN    NaN                         NaN  \n1             NaN            NaN    NaN                         NaN  \n2             NaN            NaN    NaN                         NaN  \n3             NaN            NaN    NaN                         NaN  \n4             NaN            NaN    NaN                         NaN  \n\n[5 rows x 52 columns]",
      "text/html": "<div>\n<style scoped>\n    .dataframe tbody tr th:only-of-type {\n        vertical-align: middle;\n    }\n\n    .dataframe tbody tr th {\n        vertical-align: top;\n    }\n\n    .dataframe thead th {\n        text-align: right;\n    }\n</style>\n<table border=\"1\" class=\"dataframe\">\n  <thead>\n    <tr style=\"text-align: right;\">\n      <th></th>\n      <th>url</th>\n      <th>indexed</th>\n      <th>search_indexed</th>\n      <th>published</th>\n      <th>title</th>\n      <th>content</th>\n      <th>title_snippet</th>\n      <th>content_snippet</th>\n      <th>root_url</th>\n      <th>domain_url</th>\n      <th>...</th>\n      <th>extra_source_attributes/name</th>\n      <th>engagement</th>\n      <th>reach</th>\n      <th>word_count</th>\n      <th>trending_score</th>\n      <th>entity_url</th>\n      <th>tokens_mention</th>\n      <th>tokens_hashtag</th>\n      <th>videos</th>\n      <th>extra_source_attributes/url</th>\n    </tr>\n  </thead>\n  <tbody>\n    <tr>\n      <th>0</th>\n      <td>https://www.nbcnews.com/news/world/christmas-t...</td>\n      <td>1577417777009</td>\n      <td>1577417808485</td>\n      <td>1577415990000</td>\n      <td>Christmas typhoon leaves 28 dead, 12 missing i...</td>\n      <td>MANILA, Philippines ΓÇö A strong typhoon that ...</td>\n      <td>Christmas &lt;b&gt;typhoon&lt;/b&gt; leaves 28 dead, 12 mi...</td>\n      <td>...Philippines ΓÇö A strong &lt;b&gt;typhoon&lt;/b&gt; tha...</td>\n      <td>https://www.nbcnews.com/</td>\n      <td>http://nbcnews.com/</td>\n      <td>...</td>\n      <td>nbcnews.com</td>\n      <td>79485</td>\n      <td>28843536</td>\n      <td>439</td>\n      <td>0.0</td>\n      <td>NaN</td>\n      <td>NaN</td>\n      <td>NaN</td>\n      <td>NaN</td>\n      <td>NaN</td>\n    </tr>\n    <tr>\n      <th>1</th>\n      <td>https://www.euronews.com/2019/12/27/christmas-...</td>\n      <td>1577417446067</td>\n      <td>1577417452870</td>\n      <td>1577415990000</td>\n      <td>Christmas typhoon leaves 28 dead, 12 missing i...</td>\n      <td>MANILA, Philippines ΓÇö A strong typhoon that ...</td>\n      <td>Christmas &lt;b&gt;typhoon&lt;/b&gt; leaves 28 dead, 12 mi...</td>\n      <td>...traveled along a path similar to that of &lt;b...</td>\n      <td>https://www.euronews.com/</td>\n      <td>http://euronews.com/</td>\n      <td>...</td>\n      <td>euronews.com</td>\n      <td>72384</td>\n      <td>10095239</td>\n      <td>439</td>\n      <td>0.0</td>\n      <td>[{'url': 'https://static.euronews.com/articles...</td>\n      <td>NaN</td>\n      <td>NaN</td>\n      <td>NaN</td>\n      <td>NaN</td>\n    </tr>\n    <tr>\n      <th>2</th>\n      <td>https://edition.cnn.com/2019/12/23/asia/asia-p...</td>\n      <td>1577155935081</td>\n      <td>1577155961219</td>\n      <td>1577154684000</td>\n      <td>In Asia Pacific the climate crisis is happenin...</td>\n      <td>The world's most disaster-prone region felt th...</td>\n      <td>In Asia Pacific the climate crisis is happenin...</td>\n      <td>...stronger winds.\\n\\nJoanna Sustento has been...</td>\n      <td>https://edition.cnn.com/</td>\n      <td>http://cnn.com/</td>\n      <td>...</td>\n      <td>cnn.com</td>\n      <td>26673</td>\n      <td>41653588</td>\n      <td>1836</td>\n      <td>0.0</td>\n      <td>[{'url': 'cdn.cnn.com/cnnnext/dam/assets/19110...</td>\n      <td>NaN</td>\n      <td>NaN</td>\n      <td>NaN</td>\n      <td>NaN</td>\n    </tr>\n    <tr>\n      <th>3</th>\n      <td>https://edition.cnn.com/2019/12/26/asia/philip...</td>\n      <td>1577345702655</td>\n      <td>1577345729427</td>\n      <td>1577344041000</td>\n      <td>Typhoon Phanfone: Ursula hits the Philippines,...</td>\n      <td>A typhoon that lashed the central Philippines ...</td>\n      <td>&lt;b&gt;Typhoon&lt;/b&gt; Phanfone: Ursula hits the Phili...</td>\n      <td>...homes and tourist areas.\\n\\n&lt;b&gt;Typhoon&lt;/b&gt; ...</td>\n      <td>https://edition.cnn.com/</td>\n      <td>http://cnn.com/</td>\n      <td>...</td>\n      <td>cnn.com</td>\n      <td>17642</td>\n      <td>41653588</td>\n      <td>500</td>\n      <td>0.0</td>\n      <td>[{'url': 'https://pia.gov.ph/news/articles/103...</td>\n      <td>NaN</td>\n      <td>NaN</td>\n      <td>NaN</td>\n      <td>NaN</td>\n    </tr>\n    <tr>\n      <th>4</th>\n      <td>https://news.abs-cbn.com/news/12/26/19/christm...</td>\n      <td>1577333852530</td>\n      <td>1577333863173</td>\n      <td>1577330133000</td>\n      <td>Christmas storm Ursula kills at least 16 - ABS...</td>\n      <td>MANILA - A typhoon that swept across remote vi...</td>\n      <td>Christmas storm Ursula kills at least 16 - ABS...</td>\n      <td>...tracked a similar path as Super &lt;b&gt;Typhoon&lt;...</td>\n      <td>https://news.abs-cbn.com/</td>\n      <td>http://abs-cbn.com/</td>\n      <td>...</td>\n      <td>abs-cbn.com</td>\n      <td>15794</td>\n      <td>6392708</td>\n      <td>387</td>\n      <td>0.0</td>\n      <td>[{'url': 'https://sa.kapamilya.com/absnews/abs...</td>\n      <td>NaN</td>\n      <td>NaN</td>\n      <td>NaN</td>\n      <td>NaN</td>\n    </tr>\n  </tbody>\n</table>\n<p>5 rows × 52 columns</p>\n</div>"
     },
     "metadata": {},
     "execution_count": 19
    }
   ],
   "source": [
    "info_df = pd.DataFrame(data)\n",
    "info_df.head()"
   ]
  },
  {
   "cell_type": "code",
   "execution_count": 21,
   "metadata": {},
   "outputs": [
    {
     "output_type": "stream",
     "name": "stdout",
     "text": "dict_keys(['url', 'indexed', 'search_indexed', 'published', 'title', 'content', 'title_snippet', 'content_snippet', 'root_url', 'domain_url', 'host_url', 'parent_url', 'lang', 'porn_level', 'fluency_level', 'spam_level', 'sentiment', 'source_type', 'post_type', 'tokens_title', 'tokens_content', 'images', 'cluster_id', 'tags_internal', 'article_extended_attributes/facebook_shares', 'article_extended_attributes/facebook_likes', 'article_extended_attributes/twitter_shares', 'article_extended_attributes/num_comments', 'source_extended_attributes/alexa_pageviews', 'source_extended_attributes/alexa_unique_visitors', 'extra_author_attributes/id', 'extra_author_attributes/name', 'extra_author_attributes/gender', 'extra_source_attributes/world_data/continent', 'extra_source_attributes/world_data/country', 'extra_source_attributes/world_data/region', 'extra_source_attributes/world_data/city', 'extra_source_attributes/world_data/longitude', 'extra_source_attributes/world_data/latitude', 'extra_source_attributes/world_data/country_code', 'extra_source_attributes/world_data/resolution', 'extra_source_attributes/id', 'extra_source_attributes/name', 'engagement', 'reach', 'word_count', 'trending_score'])\n"
    }
   ],
   "source": [
    "print(data[0].keys())"
   ]
  },
  {
   "cell_type": "code",
   "execution_count": null,
   "metadata": {},
   "outputs": [],
   "source": []
  }
 ],
 "metadata": {
  "kernelspec": {
   "display_name": "Python 3.7.4 64-bit",
   "language": "python",
   "name": "python37464bitb7e105f00eee4539af44d87466154e0d"
  },
  "language_info": {
   "codemirror_mode": {
    "name": "ipython",
    "version": 3
   },
   "file_extension": ".py",
   "mimetype": "text/x-python",
   "name": "python",
   "nbconvert_exporter": "python",
   "pygments_lexer": "ipython3",
   "version": "3.7.4-final"
  }
 },
 "nbformat": 4,
 "nbformat_minor": 4
}